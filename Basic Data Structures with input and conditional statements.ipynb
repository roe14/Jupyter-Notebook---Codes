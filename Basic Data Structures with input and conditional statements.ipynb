{
 "cells": [
  {
   "cell_type": "code",
   "execution_count": null,
   "metadata": {},
   "outputs": [
    {
     "name": "stdin",
     "output_type": "stream",
     "text": [
      "Enter your month of birth: May\n"
     ]
    },
    {
     "name": "stdout",
     "output_type": "stream",
     "text": [
      "Historical figure born in your month is: Karl Marx\n"
     ]
    }
   ],
   "source": [
    "month=input(\"Enter your month of birth:\")\n",
    "\n",
    "if month == 'January':\n",
    "    Historical_Figure = 'Franklin D. Roosevelt'\n",
    "elif month=='February':\n",
    "    Historical_Figure = 'George Washington'\n",
    "elif month=='March':\n",
    "    Historical_Figure = 'Albert Einstein'\n",
    "elif month=='April':\n",
    "    Historical_Figure = 'Adolf Hitler'\n",
    "elif month=='May':\n",
    "    Historical_Figure = 'Karl Marx'\n",
    "elif month=='June':\n",
    "    Historical_Figure = 'Marilyn Monroe'\n",
    "elif month=='July':\n",
    "    Historical_Figure = 'Nikola Telsa'\n",
    "elif month=='August':\n",
    "    Historical_Figure = 'Napolean'\n",
    "elif month=='September':\n",
    "    Historical_Figure = 'Marco Polo'\n",
    "elif month== 'October':\n",
    "    Historical_Figure = 'Gandhi'\n",
    "elif month== 'November':\n",
    "    Historical_Figure = 'Augusto Pinochet'\n",
    "elif month=='December':\n",
    "    Historical_Figure = 'Beethoven'\n",
    "    \n",
    "print(\"Historical figure born in your month is:\", Historical_Figure)\n",
    "\n",
    "person=input(\"Enter the respective figure who was born in your month:\")\n",
    "if person == 'Franklin D. Roosevelt':\n",
    "    century='19th Century'\n",
    "elif person=='George Washington':\n",
    "    century='18th Century'\n",
    "elif person=='Albert Einstein':\n",
    "    century='19th Century'\n",
    "elif person=='Adolf Hitler':\n",
    "    century='19th Century'\n",
    "elif person=='Karl Marx':\n",
    "    century='19th Century'\n",
    "elif person=='Maryilyn Monroe':\n",
    "    century='20th Century'\n",
    "elif person=='Nikola Telsa':\n",
    "    century='19th Century'\n",
    "elif person=='Napolean':\n",
    "    century='18th Century'\n",
    "elif person=='Marco Polo':\n",
    "    century='13th Century'\n",
    "elif person=='Gandhi':\n",
    "    century='19th Century'\n",
    "elif person=='Augusto Pinochet':\n",
    "    century='20th Century'\n",
    "elif person=='Beethoven':\n",
    "    century='18th Century'\n",
    "print('The Century the respective figure was born in was:', century)\n",
    "\n",
    "print('What these Historial Figures are known for:')\n",
    "\n",
    "def why(job):\n",
    "    if job=='first':\n",
    "        return 'General'\n",
    "    elif job=='second':\n",
    "        return 'Inventor'\n",
    "    elif job=='third':\n",
    "        return'Musician'\n",
    "    elif job=='fourth':\n",
    "        return 'Explorer'\n",
    "    elif job=='fifth':\n",
    "        return 'President'\n",
    "    elif job== 'fifth':\n",
    "        return 'Activist'\n",
    "    elif job== 'sixth':\n",
    "        return 'Philosopher'\n",
    "    elif job=='seventh':\n",
    "        return 'Dictator'\n",
    "print(why('first'),'George Washington', 'Napolean')\n",
    "print(why('second'),'Nikola Telsa')\n",
    "print(why('third'), 'Marilyn Monroe', 'Beethoven')\n",
    "print(why('fourth'), 'Marco Polo')\n",
    "print(why('fifth'), 'Franklin D. Roosevelt', 'George Washington')\n",
    "print(why('sixth'), 'Karl Marx', 'Gandhi')\n",
    "print(why('seventh'), 'Augusto Pinochet', 'Adolf Hitler')\n",
    "print(\"All DONE\")\n",
    "\n",
    "#Lets play a game!!\n",
    "import random\n",
    "namelist = ['Franklin D. Roosevelt', 'George Washington', 'Albert Einstein', 'Adolf Hitler', 'Karl Marx', 'Marilyn Monroe', 'Nikola Telsa', 'Napolean', 'Marco Polo', 'Gandhi', 'Augusto Pinochet', 'Beethoven']\n",
    "print('Random name from the list is:', random.choice(namelist))\n"
   ]
  },
  {
   "cell_type": "code",
   "execution_count": null,
   "metadata": {},
   "outputs": [],
   "source": []
  }
 ],
 "metadata": {
  "kernelspec": {
   "display_name": "Python 3",
   "language": "python",
   "name": "python3"
  },
  "language_info": {
   "codemirror_mode": {
    "name": "ipython",
    "version": 3
   },
   "file_extension": ".py",
   "mimetype": "text/x-python",
   "name": "python",
   "nbconvert_exporter": "python",
   "pygments_lexer": "ipython3",
   "version": "3.8.5"
  }
 },
 "nbformat": 4,
 "nbformat_minor": 4
}
