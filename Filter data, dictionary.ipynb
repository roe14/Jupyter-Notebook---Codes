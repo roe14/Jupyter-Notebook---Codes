{
 "cells": [
  {
   "cell_type": "code",
   "execution_count": 1,
   "metadata": {},
   "outputs": [
    {
     "name": "stdout",
     "output_type": "stream",
     "text": [
      "[{'Capital': 'Santiago', 'Code': '1'}]\n"
     ]
    }
   ],
   "source": [
    "A_Description_Of_Chile = [\n",
    "{\"Capital\": \"Santiago\", \"Code\": \"1\"},\n",
    "{\"Length\": \"4.300 Kilometers\", \"Code\": \"2\"},\n",
    "{\"Bordered by\": \"Peru, Bolivia, Argentina\", \"Code\": \"3\"}\n",
    "]\n",
    "\n",
    "def filter_set(A_Description_Of_Chile,search_string):\n",
    "    def iterator_func(x):\n",
    "        for v in x.values():\n",
    "            if search_string in v:\n",
    "                return True\n",
    "        return False\n",
    "    return filter(iterator_func, A_Description_Of_Chile)\n",
    "filtered_records=filter_set(A_Description_Of_Chile,\"1\")\n",
    "print(list(filtered_records))\n"
   ]
  },
  {
   "cell_type": "code",
   "execution_count": null,
   "metadata": {},
   "outputs": [],
   "source": []
  }
 ],
 "metadata": {
  "kernelspec": {
   "display_name": "Python 3",
   "language": "python",
   "name": "python3"
  },
  "language_info": {
   "codemirror_mode": {
    "name": "ipython",
    "version": 3
   },
   "file_extension": ".py",
   "mimetype": "text/x-python",
   "name": "python",
   "nbconvert_exporter": "python",
   "pygments_lexer": "ipython3",
   "version": "3.8.5"
  }
 },
 "nbformat": 4,
 "nbformat_minor": 4
}
