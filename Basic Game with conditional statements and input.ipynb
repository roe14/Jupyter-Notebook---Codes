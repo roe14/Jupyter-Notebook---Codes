{
 "cells": [
  {
   "cell_type": "code",
   "execution_count": null,
   "metadata": {},
   "outputs": [
    {
     "name": "stdout",
     "output_type": "stream",
     "text": [
      "Hello Welcome to this quick quiz on Geography\n",
      "Answers are in lowercase\n"
     ]
    },
    {
     "name": "stdin",
     "output_type": "stream",
     "text": [
      "Ready to put your skills to the test (yes/no): yes\n",
      "1. What is the longest country in the world?  chile\n"
     ]
    },
    {
     "name": "stdout",
     "output_type": "stream",
     "text": [
      "Correct\n"
     ]
    },
    {
     "name": "stdin",
     "output_type": "stream",
     "text": [
      "2. What is the longest river in the world?  the nile\n"
     ]
    },
    {
     "name": "stdout",
     "output_type": "stream",
     "text": [
      "Correct again\n"
     ]
    }
   ],
   "source": [
    "# -*- coding: utf-8 -*-\n",
    "\"\"\"\n",
    "\n",
    "@author: Roelof\n",
    "\"\"\"\n",
    "\n",
    "print(\"Hello Welcome to this quick quiz on Geography\")\n",
    "print(\"Answers are in lowercase\")\n",
    "Answer=input(\"Ready to put your skills to the test (yes/no):\")\n",
    "score=0\n",
    "total_questions=8\n",
    "\n",
    "if Answer==\"yes\":\n",
    "    Answer=input(\"1. What is the longest country in the world? \")\n",
    "    if Answer==\"chile\":\n",
    "        score +=1\n",
    "        print(\"Correct\")\n",
    "    else:\n",
    "        print(\"Sorry but that is Incorrect\")\n",
    "    \n",
    "    Answer=input(\"2. What is the longest river in the world? \")\n",
    "    if Answer==\"the nile river\" or \"the nile\":\n",
    "        score +=1\n",
    "        print(\"Correct again\")\n",
    "    else:\n",
    "        print(\"That is wrong\")\n",
    "        \n",
    "    Answer=input(\"3. What is the smallest country in the world? \")\n",
    "    if Answer==\"the vatican city\" or \"vatican city\":\n",
    "        score +=1\n",
    "        print(\"Correct yet again\")\n",
    "    else:\n",
    "        print(\"That is Incorrect\")\n",
    "        \n",
    "    Answer=input(\"4. Which country has the most languages? \")\n",
    "    if Answer==\"india\":\n",
    "        score +=1\n",
    "        print(\"Correct again\")\n",
    "    else:\n",
    "        print(\"Not the correct answer\")\n",
    "        \n",
    "    Answer=input(\"5. What is the largest city in the world by population? \")\n",
    "    if Answer==\"tokyo\":\n",
    "        score +=1\n",
    "        print(\"That is the correct answer, another point\")\n",
    "    else:\n",
    "        print(\"Not the right answer\")\n",
    "        \n",
    "    Answer=input(\"6. What is the most expensive city in the world? \")\n",
    "    if Answer==\"singapore\":\n",
    "        score +=1\n",
    "        print(\"Correct\")\n",
    "    else:\n",
    "        print(\"Incorrect\")\n",
    "        \n",
    "    Answer=input(\"7. What is the capital of Norway? \")\n",
    "    if Answer==\"oslo\":\n",
    "        score +=1\n",
    "        print(\"Correct\")\n",
    "    else:\n",
    "        print(\"That is not correct\")\n",
    "        \n",
    "print(\"Thanks for playing this game\", \"you got\", score, \"questions right\")\n",
    "grade=(score/total_questions)*100\n",
    "print(\"Your grade is:\",grade)\n"
   ]
  },
  {
   "cell_type": "code",
   "execution_count": null,
   "metadata": {},
   "outputs": [],
   "source": []
  }
 ],
 "metadata": {
  "kernelspec": {
   "display_name": "Python 3",
   "language": "python",
   "name": "python3"
  },
  "language_info": {
   "codemirror_mode": {
    "name": "ipython",
    "version": 3
   },
   "file_extension": ".py",
   "mimetype": "text/x-python",
   "name": "python",
   "nbconvert_exporter": "python",
   "pygments_lexer": "ipython3",
   "version": "3.8.5"
  }
 },
 "nbformat": 4,
 "nbformat_minor": 4
}
