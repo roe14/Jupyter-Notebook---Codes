{
 "cells": [
  {
   "cell_type": "code",
   "execution_count": 1,
   "metadata": {},
   "outputs": [
    {
     "name": "stdout",
     "output_type": "stream",
     "text": [
      "{'roe': 3, 'joe': 1, 'mark': 1, 'susan': 1}\n",
      "{'roe': 6, 'joe': 2, 'mark': 2, 'susan': 2}\n",
      "{'roe': 9, 'joe': 3, 'mark': 3, 'susan': 3}\n",
      "{'roe': 12, 'joe': 4, 'mark': 4, 'susan': 4}\n",
      "{'roe': 15, 'joe': 5, 'mark': 5, 'susan': 5}\n"
     ]
    }
   ],
   "source": [
    "counts=dict()\n",
    "names=['roe', 'joe', 'mark', 'roe', 'roe', 'susan']\n",
    "for name in names:\n",
    "    counts[name]=counts.get(name,0)+1\n",
    "print(counts)\n",
    "\n",
    "\n",
    "\n",
    "counts=dict()\n",
    "names=['roe', 'joe', 'mark', 'roe', 'roe', 'susan']\n",
    "for name in names:\n",
    "    counts[name]=counts.get(name,0)+2\n",
    "print(counts)\n",
    "\n",
    "\n",
    "\n",
    "\n",
    "\n",
    "counts=dict()\n",
    "names=['roe', 'joe', 'mark', 'roe', 'roe', 'susan']\n",
    "for name in names:\n",
    "    counts[name]=counts.get(name,0)+3\n",
    "print(counts)\n",
    "\n",
    "\n",
    "\n",
    "\n",
    "\n",
    "\n",
    "counts=dict()\n",
    "names=['roe', 'joe', 'mark', 'roe', 'roe', 'susan']\n",
    "for name in names:\n",
    "    counts[name]=counts.get(name,0)+4\n",
    "print(counts)\n",
    "\n",
    "       \n",
    "\n",
    "counts=dict()\n",
    "names=['roe', 'joe', 'mark', 'roe', 'roe', 'susan']\n",
    "for name in names:\n",
    "    counts[name]=counts.get(name,0)+5\n",
    "print(counts)\n"
   ]
  },
  {
   "cell_type": "code",
   "execution_count": null,
   "metadata": {},
   "outputs": [],
   "source": []
  }
 ],
 "metadata": {
  "kernelspec": {
   "display_name": "Python 3",
   "language": "python",
   "name": "python3"
  },
  "language_info": {
   "codemirror_mode": {
    "name": "ipython",
    "version": 3
   },
   "file_extension": ".py",
   "mimetype": "text/x-python",
   "name": "python",
   "nbconvert_exporter": "python",
   "pygments_lexer": "ipython3",
   "version": "3.8.5"
  }
 },
 "nbformat": 4,
 "nbformat_minor": 4
}
